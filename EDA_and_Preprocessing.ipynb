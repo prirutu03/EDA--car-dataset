{
  "cells": [
    {
      "cell_type": "markdown",
      "metadata": {
        "id": "view-in-github",
        "colab_type": "text"
      },
      "source": [
        "<a href=\"https://colab.research.google.com/github/prirutu03/EDA--car-dataset/blob/main/EDA_and_Preprocessing.ipynb\" target=\"_parent\"><img src=\"https://colab.research.google.com/assets/colab-badge.svg\" alt=\"Open In Colab\"/></a>"
      ]
    },
    {
      "cell_type": "code",
      "execution_count": null,
      "id": "c109c019",
      "metadata": {
        "id": "c109c019",
        "colab": {
          "base_uri": "https://localhost:8080/",
          "height": 340
        },
        "outputId": "e7fdc56f-6463-4de1-b190-2a65a811c067"
      },
      "outputs": [
        {
          "output_type": "execute_result",
          "data": {
            "text/plain": [
              "   symboling  normalized-losses         make fuel-type   body-style  \\\n",
              "0          3                NaN  alfa-romero       gas  convertible   \n",
              "1          3                NaN  alfa-romero       gas  convertible   \n",
              "2          1                NaN  alfa-romero       gas    hatchback   \n",
              "3          2              164.0         audi       gas        sedan   \n",
              "4          2              164.0         audi       gas        sedan   \n",
              "\n",
              "  drive-wheels engine-location  width  height engine-type  engine-size  \\\n",
              "0          rwd           front   64.1    48.8        dohc          130   \n",
              "1          rwd           front   64.1    48.8        dohc          130   \n",
              "2          rwd           front   65.5    52.4        ohcv          152   \n",
              "3          fwd           front   66.2    54.3         ohc          109   \n",
              "4          4wd           front   66.4    54.3         ohc          136   \n",
              "\n",
              "   horsepower  city-mpg  highway-mpg  price  \n",
              "0       111.0        21           27  13495  \n",
              "1       111.0        21           27  16500  \n",
              "2       154.0        19           26  16500  \n",
              "3       102.0        24           30  13950  \n",
              "4       115.0        18           22  17450  "
            ],
            "text/html": [
              "\n",
              "  <div id=\"df-f101ff8a-7b4f-4d60-b29d-81ca6b70d5af\">\n",
              "    <div class=\"colab-df-container\">\n",
              "      <div>\n",
              "<style scoped>\n",
              "    .dataframe tbody tr th:only-of-type {\n",
              "        vertical-align: middle;\n",
              "    }\n",
              "\n",
              "    .dataframe tbody tr th {\n",
              "        vertical-align: top;\n",
              "    }\n",
              "\n",
              "    .dataframe thead th {\n",
              "        text-align: right;\n",
              "    }\n",
              "</style>\n",
              "<table border=\"1\" class=\"dataframe\">\n",
              "  <thead>\n",
              "    <tr style=\"text-align: right;\">\n",
              "      <th></th>\n",
              "      <th>symboling</th>\n",
              "      <th>normalized-losses</th>\n",
              "      <th>make</th>\n",
              "      <th>fuel-type</th>\n",
              "      <th>body-style</th>\n",
              "      <th>drive-wheels</th>\n",
              "      <th>engine-location</th>\n",
              "      <th>width</th>\n",
              "      <th>height</th>\n",
              "      <th>engine-type</th>\n",
              "      <th>engine-size</th>\n",
              "      <th>horsepower</th>\n",
              "      <th>city-mpg</th>\n",
              "      <th>highway-mpg</th>\n",
              "      <th>price</th>\n",
              "    </tr>\n",
              "  </thead>\n",
              "  <tbody>\n",
              "    <tr>\n",
              "      <th>0</th>\n",
              "      <td>3</td>\n",
              "      <td>NaN</td>\n",
              "      <td>alfa-romero</td>\n",
              "      <td>gas</td>\n",
              "      <td>convertible</td>\n",
              "      <td>rwd</td>\n",
              "      <td>front</td>\n",
              "      <td>64.1</td>\n",
              "      <td>48.8</td>\n",
              "      <td>dohc</td>\n",
              "      <td>130</td>\n",
              "      <td>111.0</td>\n",
              "      <td>21</td>\n",
              "      <td>27</td>\n",
              "      <td>13495</td>\n",
              "    </tr>\n",
              "    <tr>\n",
              "      <th>1</th>\n",
              "      <td>3</td>\n",
              "      <td>NaN</td>\n",
              "      <td>alfa-romero</td>\n",
              "      <td>gas</td>\n",
              "      <td>convertible</td>\n",
              "      <td>rwd</td>\n",
              "      <td>front</td>\n",
              "      <td>64.1</td>\n",
              "      <td>48.8</td>\n",
              "      <td>dohc</td>\n",
              "      <td>130</td>\n",
              "      <td>111.0</td>\n",
              "      <td>21</td>\n",
              "      <td>27</td>\n",
              "      <td>16500</td>\n",
              "    </tr>\n",
              "    <tr>\n",
              "      <th>2</th>\n",
              "      <td>1</td>\n",
              "      <td>NaN</td>\n",
              "      <td>alfa-romero</td>\n",
              "      <td>gas</td>\n",
              "      <td>hatchback</td>\n",
              "      <td>rwd</td>\n",
              "      <td>front</td>\n",
              "      <td>65.5</td>\n",
              "      <td>52.4</td>\n",
              "      <td>ohcv</td>\n",
              "      <td>152</td>\n",
              "      <td>154.0</td>\n",
              "      <td>19</td>\n",
              "      <td>26</td>\n",
              "      <td>16500</td>\n",
              "    </tr>\n",
              "    <tr>\n",
              "      <th>3</th>\n",
              "      <td>2</td>\n",
              "      <td>164.0</td>\n",
              "      <td>audi</td>\n",
              "      <td>gas</td>\n",
              "      <td>sedan</td>\n",
              "      <td>fwd</td>\n",
              "      <td>front</td>\n",
              "      <td>66.2</td>\n",
              "      <td>54.3</td>\n",
              "      <td>ohc</td>\n",
              "      <td>109</td>\n",
              "      <td>102.0</td>\n",
              "      <td>24</td>\n",
              "      <td>30</td>\n",
              "      <td>13950</td>\n",
              "    </tr>\n",
              "    <tr>\n",
              "      <th>4</th>\n",
              "      <td>2</td>\n",
              "      <td>164.0</td>\n",
              "      <td>audi</td>\n",
              "      <td>gas</td>\n",
              "      <td>sedan</td>\n",
              "      <td>4wd</td>\n",
              "      <td>front</td>\n",
              "      <td>66.4</td>\n",
              "      <td>54.3</td>\n",
              "      <td>ohc</td>\n",
              "      <td>136</td>\n",
              "      <td>115.0</td>\n",
              "      <td>18</td>\n",
              "      <td>22</td>\n",
              "      <td>17450</td>\n",
              "    </tr>\n",
              "  </tbody>\n",
              "</table>\n",
              "</div>\n",
              "      <button class=\"colab-df-convert\" onclick=\"convertToInteractive('df-f101ff8a-7b4f-4d60-b29d-81ca6b70d5af')\"\n",
              "              title=\"Convert this dataframe to an interactive table.\"\n",
              "              style=\"display:none;\">\n",
              "        \n",
              "  <svg xmlns=\"http://www.w3.org/2000/svg\" height=\"24px\"viewBox=\"0 0 24 24\"\n",
              "       width=\"24px\">\n",
              "    <path d=\"M0 0h24v24H0V0z\" fill=\"none\"/>\n",
              "    <path d=\"M18.56 5.44l.94 2.06.94-2.06 2.06-.94-2.06-.94-.94-2.06-.94 2.06-2.06.94zm-11 1L8.5 8.5l.94-2.06 2.06-.94-2.06-.94L8.5 2.5l-.94 2.06-2.06.94zm10 10l.94 2.06.94-2.06 2.06-.94-2.06-.94-.94-2.06-.94 2.06-2.06.94z\"/><path d=\"M17.41 7.96l-1.37-1.37c-.4-.4-.92-.59-1.43-.59-.52 0-1.04.2-1.43.59L10.3 9.45l-7.72 7.72c-.78.78-.78 2.05 0 2.83L4 21.41c.39.39.9.59 1.41.59.51 0 1.02-.2 1.41-.59l7.78-7.78 2.81-2.81c.8-.78.8-2.07 0-2.86zM5.41 20L4 18.59l7.72-7.72 1.47 1.35L5.41 20z\"/>\n",
              "  </svg>\n",
              "      </button>\n",
              "      \n",
              "  <style>\n",
              "    .colab-df-container {\n",
              "      display:flex;\n",
              "      flex-wrap:wrap;\n",
              "      gap: 12px;\n",
              "    }\n",
              "\n",
              "    .colab-df-convert {\n",
              "      background-color: #E8F0FE;\n",
              "      border: none;\n",
              "      border-radius: 50%;\n",
              "      cursor: pointer;\n",
              "      display: none;\n",
              "      fill: #1967D2;\n",
              "      height: 32px;\n",
              "      padding: 0 0 0 0;\n",
              "      width: 32px;\n",
              "    }\n",
              "\n",
              "    .colab-df-convert:hover {\n",
              "      background-color: #E2EBFA;\n",
              "      box-shadow: 0px 1px 2px rgba(60, 64, 67, 0.3), 0px 1px 3px 1px rgba(60, 64, 67, 0.15);\n",
              "      fill: #174EA6;\n",
              "    }\n",
              "\n",
              "    [theme=dark] .colab-df-convert {\n",
              "      background-color: #3B4455;\n",
              "      fill: #D2E3FC;\n",
              "    }\n",
              "\n",
              "    [theme=dark] .colab-df-convert:hover {\n",
              "      background-color: #434B5C;\n",
              "      box-shadow: 0px 1px 3px 1px rgba(0, 0, 0, 0.15);\n",
              "      filter: drop-shadow(0px 1px 2px rgba(0, 0, 0, 0.3));\n",
              "      fill: #FFFFFF;\n",
              "    }\n",
              "  </style>\n",
              "\n",
              "      <script>\n",
              "        const buttonEl =\n",
              "          document.querySelector('#df-f101ff8a-7b4f-4d60-b29d-81ca6b70d5af button.colab-df-convert');\n",
              "        buttonEl.style.display =\n",
              "          google.colab.kernel.accessAllowed ? 'block' : 'none';\n",
              "\n",
              "        async function convertToInteractive(key) {\n",
              "          const element = document.querySelector('#df-f101ff8a-7b4f-4d60-b29d-81ca6b70d5af');\n",
              "          const dataTable =\n",
              "            await google.colab.kernel.invokeFunction('convertToInteractive',\n",
              "                                                     [key], {});\n",
              "          if (!dataTable) return;\n",
              "\n",
              "          const docLinkHtml = 'Like what you see? Visit the ' +\n",
              "            '<a target=\"_blank\" href=https://colab.research.google.com/notebooks/data_table.ipynb>data table notebook</a>'\n",
              "            + ' to learn more about interactive tables.';\n",
              "          element.innerHTML = '';\n",
              "          dataTable['output_type'] = 'display_data';\n",
              "          await google.colab.output.renderOutput(dataTable, element);\n",
              "          const docLink = document.createElement('div');\n",
              "          docLink.innerHTML = docLinkHtml;\n",
              "          element.appendChild(docLink);\n",
              "        }\n",
              "      </script>\n",
              "    </div>\n",
              "  </div>\n",
              "  "
            ]
          },
          "metadata": {},
          "execution_count": 1
        }
      ],
      "source": [
        "import pandas as pd\n",
        "\n",
        "df = pd.read_csv('eda.csv') #Read the CSV file\n",
        "df.head() # Display the first five rows of the data"
      ]
    },
    {
      "cell_type": "raw",
      "id": "f2173b5b",
      "metadata": {
        "id": "f2173b5b"
      },
      "source": [
        "Basic EDA"
      ]
    },
    {
      "cell_type": "code",
      "execution_count": null,
      "id": "c9261e8f",
      "metadata": {
        "id": "c9261e8f"
      },
      "outputs": [],
      "source": [
        "df.shape\n",
        "# 205 Rows\n",
        "# 15 Columns"
      ]
    },
    {
      "cell_type": "code",
      "execution_count": null,
      "id": "19b907a8",
      "metadata": {
        "id": "19b907a8"
      },
      "outputs": [],
      "source": [
        "df.info()\n",
        "# Number of rows = 205\n",
        "# Number of columns = 15\n",
        "# Name, data type and number of non-null rows in each column\n",
        "# Number of null values in each column\n",
        "# Number of columns for each data type\n",
        "# Memory usage"
      ]
    },
    {
      "cell_type": "raw",
      "id": "c222e28b",
      "metadata": {
        "id": "c222e28b"
      },
      "source": [
        "Handling Missing Values"
      ]
    },
    {
      "cell_type": "code",
      "execution_count": null,
      "id": "91957a82",
      "metadata": {
        "id": "91957a82",
        "colab": {
          "base_uri": "https://localhost:8080/"
        },
        "outputId": "97949d2f-4907-4fd4-88b9-34bd7c91b836"
      },
      "outputs": [
        {
          "output_type": "execute_result",
          "data": {
            "text/plain": [
              "symboling             0\n",
              "normalized-losses    41\n",
              "make                  0\n",
              "fuel-type             0\n",
              "body-style            0\n",
              "drive-wheels          0\n",
              "engine-location       0\n",
              "width                 0\n",
              "height                0\n",
              "engine-type           0\n",
              "engine-size           0\n",
              "horsepower            2\n",
              "city-mpg              0\n",
              "highway-mpg           0\n",
              "price                 0\n",
              "dtype: int64"
            ]
          },
          "metadata": {},
          "execution_count": 2
        }
      ],
      "source": [
        "df.isna().sum() #Return the number of missing values in each column"
      ]
    },
    {
      "cell_type": "code",
      "execution_count": null,
      "id": "f7673121",
      "metadata": {
        "id": "f7673121",
        "colab": {
          "base_uri": "https://localhost:8080/"
        },
        "outputId": "4182ae92-a514-4c31-9c1c-34b39b6d8996"
      },
      "outputs": [
        {
          "output_type": "stream",
          "name": "stdout",
          "text": [
            "Shape of df: (205, 15)\n",
            "Shape of newdf: (164, 15)\n"
          ]
        }
      ],
      "source": [
        "# Delete\n",
        "\n"
      ]
    },
    {
      "cell_type": "code",
      "execution_count": null,
      "id": "96a0dadf",
      "metadata": {
        "id": "96a0dadf",
        "colab": {
          "base_uri": "https://localhost:8080/"
        },
        "outputId": "58d13c1d-e5d7-4acd-e51a-2e4686c13171"
      },
      "outputs": [
        {
          "output_type": "stream",
          "name": "stdout",
          "text": [
            "Shape of df: (205, 15)\n",
            "Shape of newdf: (205, 13)\n"
          ]
        }
      ],
      "source": []
    },
    {
      "cell_type": "code",
      "execution_count": null,
      "id": "ce7a773a",
      "metadata": {
        "id": "ce7a773a",
        "colab": {
          "base_uri": "https://localhost:8080/",
          "height": 193
        },
        "outputId": "b3ff3374-c795-447d-e036-34d78aa70e27"
      },
      "outputs": [
        {
          "output_type": "execute_result",
          "data": {
            "text/plain": [
              "     symboling  normalized-losses     make fuel-type body-style drive-wheels  \\\n",
              "130          0                NaN  renault       gas      wagon          fwd   \n",
              "131          2                NaN  renault       gas  hatchback          fwd   \n",
              "\n",
              "    engine-location  width  height engine-type  engine-size  horsepower  \\\n",
              "130           front   66.5    55.2         ohc          132         NaN   \n",
              "131           front   66.6    50.5         ohc          132         NaN   \n",
              "\n",
              "     city-mpg  highway-mpg  price  \n",
              "130        23           31   9295  \n",
              "131        23           31   9895  "
            ],
            "text/html": [
              "\n",
              "  <div id=\"df-7726c5b8-06e5-4095-9aee-0e6c2a06bb00\">\n",
              "    <div class=\"colab-df-container\">\n",
              "      <div>\n",
              "<style scoped>\n",
              "    .dataframe tbody tr th:only-of-type {\n",
              "        vertical-align: middle;\n",
              "    }\n",
              "\n",
              "    .dataframe tbody tr th {\n",
              "        vertical-align: top;\n",
              "    }\n",
              "\n",
              "    .dataframe thead th {\n",
              "        text-align: right;\n",
              "    }\n",
              "</style>\n",
              "<table border=\"1\" class=\"dataframe\">\n",
              "  <thead>\n",
              "    <tr style=\"text-align: right;\">\n",
              "      <th></th>\n",
              "      <th>symboling</th>\n",
              "      <th>normalized-losses</th>\n",
              "      <th>make</th>\n",
              "      <th>fuel-type</th>\n",
              "      <th>body-style</th>\n",
              "      <th>drive-wheels</th>\n",
              "      <th>engine-location</th>\n",
              "      <th>width</th>\n",
              "      <th>height</th>\n",
              "      <th>engine-type</th>\n",
              "      <th>engine-size</th>\n",
              "      <th>horsepower</th>\n",
              "      <th>city-mpg</th>\n",
              "      <th>highway-mpg</th>\n",
              "      <th>price</th>\n",
              "    </tr>\n",
              "  </thead>\n",
              "  <tbody>\n",
              "    <tr>\n",
              "      <th>130</th>\n",
              "      <td>0</td>\n",
              "      <td>NaN</td>\n",
              "      <td>renault</td>\n",
              "      <td>gas</td>\n",
              "      <td>wagon</td>\n",
              "      <td>fwd</td>\n",
              "      <td>front</td>\n",
              "      <td>66.5</td>\n",
              "      <td>55.2</td>\n",
              "      <td>ohc</td>\n",
              "      <td>132</td>\n",
              "      <td>NaN</td>\n",
              "      <td>23</td>\n",
              "      <td>31</td>\n",
              "      <td>9295</td>\n",
              "    </tr>\n",
              "    <tr>\n",
              "      <th>131</th>\n",
              "      <td>2</td>\n",
              "      <td>NaN</td>\n",
              "      <td>renault</td>\n",
              "      <td>gas</td>\n",
              "      <td>hatchback</td>\n",
              "      <td>fwd</td>\n",
              "      <td>front</td>\n",
              "      <td>66.6</td>\n",
              "      <td>50.5</td>\n",
              "      <td>ohc</td>\n",
              "      <td>132</td>\n",
              "      <td>NaN</td>\n",
              "      <td>23</td>\n",
              "      <td>31</td>\n",
              "      <td>9895</td>\n",
              "    </tr>\n",
              "  </tbody>\n",
              "</table>\n",
              "</div>\n",
              "      <button class=\"colab-df-convert\" onclick=\"convertToInteractive('df-7726c5b8-06e5-4095-9aee-0e6c2a06bb00')\"\n",
              "              title=\"Convert this dataframe to an interactive table.\"\n",
              "              style=\"display:none;\">\n",
              "        \n",
              "  <svg xmlns=\"http://www.w3.org/2000/svg\" height=\"24px\"viewBox=\"0 0 24 24\"\n",
              "       width=\"24px\">\n",
              "    <path d=\"M0 0h24v24H0V0z\" fill=\"none\"/>\n",
              "    <path d=\"M18.56 5.44l.94 2.06.94-2.06 2.06-.94-2.06-.94-.94-2.06-.94 2.06-2.06.94zm-11 1L8.5 8.5l.94-2.06 2.06-.94-2.06-.94L8.5 2.5l-.94 2.06-2.06.94zm10 10l.94 2.06.94-2.06 2.06-.94-2.06-.94-.94-2.06-.94 2.06-2.06.94z\"/><path d=\"M17.41 7.96l-1.37-1.37c-.4-.4-.92-.59-1.43-.59-.52 0-1.04.2-1.43.59L10.3 9.45l-7.72 7.72c-.78.78-.78 2.05 0 2.83L4 21.41c.39.39.9.59 1.41.59.51 0 1.02-.2 1.41-.59l7.78-7.78 2.81-2.81c.8-.78.8-2.07 0-2.86zM5.41 20L4 18.59l7.72-7.72 1.47 1.35L5.41 20z\"/>\n",
              "  </svg>\n",
              "      </button>\n",
              "      \n",
              "  <style>\n",
              "    .colab-df-container {\n",
              "      display:flex;\n",
              "      flex-wrap:wrap;\n",
              "      gap: 12px;\n",
              "    }\n",
              "\n",
              "    .colab-df-convert {\n",
              "      background-color: #E8F0FE;\n",
              "      border: none;\n",
              "      border-radius: 50%;\n",
              "      cursor: pointer;\n",
              "      display: none;\n",
              "      fill: #1967D2;\n",
              "      height: 32px;\n",
              "      padding: 0 0 0 0;\n",
              "      width: 32px;\n",
              "    }\n",
              "\n",
              "    .colab-df-convert:hover {\n",
              "      background-color: #E2EBFA;\n",
              "      box-shadow: 0px 1px 2px rgba(60, 64, 67, 0.3), 0px 1px 3px 1px rgba(60, 64, 67, 0.15);\n",
              "      fill: #174EA6;\n",
              "    }\n",
              "\n",
              "    [theme=dark] .colab-df-convert {\n",
              "      background-color: #3B4455;\n",
              "      fill: #D2E3FC;\n",
              "    }\n",
              "\n",
              "    [theme=dark] .colab-df-convert:hover {\n",
              "      background-color: #434B5C;\n",
              "      box-shadow: 0px 1px 3px 1px rgba(0, 0, 0, 0.15);\n",
              "      filter: drop-shadow(0px 1px 2px rgba(0, 0, 0, 0.3));\n",
              "      fill: #FFFFFF;\n",
              "    }\n",
              "  </style>\n",
              "\n",
              "      <script>\n",
              "        const buttonEl =\n",
              "          document.querySelector('#df-7726c5b8-06e5-4095-9aee-0e6c2a06bb00 button.colab-df-convert');\n",
              "        buttonEl.style.display =\n",
              "          google.colab.kernel.accessAllowed ? 'block' : 'none';\n",
              "\n",
              "        async function convertToInteractive(key) {\n",
              "          const element = document.querySelector('#df-7726c5b8-06e5-4095-9aee-0e6c2a06bb00');\n",
              "          const dataTable =\n",
              "            await google.colab.kernel.invokeFunction('convertToInteractive',\n",
              "                                                     [key], {});\n",
              "          if (!dataTable) return;\n",
              "\n",
              "          const docLinkHtml = 'Like what you see? Visit the ' +\n",
              "            '<a target=\"_blank\" href=https://colab.research.google.com/notebooks/data_table.ipynb>data table notebook</a>'\n",
              "            + ' to learn more about interactive tables.';\n",
              "          element.innerHTML = '';\n",
              "          dataTable['output_type'] = 'display_data';\n",
              "          await google.colab.output.renderOutput(dataTable, element);\n",
              "          const docLink = document.createElement('div');\n",
              "          docLink.innerHTML = docLinkHtml;\n",
              "          element.appendChild(docLink);\n",
              "        }\n",
              "      </script>\n",
              "    </div>\n",
              "  </div>\n",
              "  "
            ]
          },
          "metadata": {},
          "execution_count": 5
        }
      ],
      "source": [
        "nullrows = df['horsepower'].isna()\n",
        "df[nullrows]"
      ]
    },
    {
      "cell_type": "code",
      "execution_count": null,
      "id": "1156c68a",
      "metadata": {
        "id": "1156c68a"
      },
      "outputs": [],
      "source": [
        "# Imputation (Fill with a value)\n",
        "mean = df['horsepower'].mean()\n",
        "mean"
      ]
    },
    {
      "cell_type": "code",
      "execution_count": null,
      "id": "ed6c10c8",
      "metadata": {
        "id": "ed6c10c8"
      },
      "outputs": [],
      "source": [
        "df['horsepower'].fillna(mean, inplace=True) # Fill the mean in all the rows containin null value in the horsepower column\n",
        "df[nullrows]"
      ]
    },
    {
      "cell_type": "raw",
      "id": "69aef3a6",
      "metadata": {
        "id": "69aef3a6"
      },
      "source": [
        "Handling Outliers"
      ]
    },
    {
      "cell_type": "code",
      "execution_count": null,
      "id": "2c6984a4",
      "metadata": {
        "id": "2c6984a4"
      },
      "outputs": [],
      "source": [
        "import seaborn as sns\n",
        "\n",
        "sns.boxplot(x=df['horsepower'])"
      ]
    },
    {
      "cell_type": "code",
      "execution_count": null,
      "id": "651b063e",
      "metadata": {
        "id": "651b063e"
      },
      "outputs": [],
      "source": [
        "condition = df['horsepower']>190 # Return a boolean DataFrame\n",
        "outliers = df[condition] # Outlier rows\n",
        "newdf = df.drop(outliers.index, axis=0) #Delete outliers\n",
        "print('Shape of df: {}'.format(df.shape))\n",
        "print('Shape of newdf: {}'.format(newdf.shape))"
      ]
    },
    {
      "cell_type": "raw",
      "id": "f9922739",
      "metadata": {
        "id": "f9922739"
      },
      "source": [
        "Handling Skewness"
      ]
    },
    {
      "cell_type": "code",
      "execution_count": null,
      "id": "200b6136",
      "metadata": {
        "scrolled": true,
        "id": "200b6136"
      },
      "outputs": [],
      "source": [
        "import matplotlib.pyplot as plt\n",
        "\n",
        "plt.hist(df['engine-size'])\n",
        "plt.show()\n",
        "#Right Skewed (Positively Skewed)"
      ]
    },
    {
      "cell_type": "code",
      "execution_count": null,
      "id": "3dd6e974",
      "metadata": {
        "id": "3dd6e974"
      },
      "outputs": [],
      "source": [
        "df['engine-size'].skew() #Returns the skewness"
      ]
    },
    {
      "cell_type": "code",
      "execution_count": null,
      "id": "ca869f69",
      "metadata": {
        "id": "ca869f69"
      },
      "outputs": [],
      "source": [
        "# Box Cox Transformation\n",
        "\n",
        "from scipy.stats import boxcox\n",
        "import numpy as np\n",
        "\n",
        "after_boxcox = boxcox(df['engine-size'])\n",
        "after_boxcox = pd.Series(after_boxcox[0])\n",
        "after_boxcox.skew()"
      ]
    },
    {
      "cell_type": "code",
      "execution_count": null,
      "id": "f3bc6527",
      "metadata": {
        "id": "f3bc6527"
      },
      "outputs": [],
      "source": [
        "plt.hist(after_boxcox)\n",
        "plt.show()"
      ]
    },
    {
      "cell_type": "raw",
      "id": "77ab0d0a",
      "metadata": {
        "id": "77ab0d0a"
      },
      "source": [
        "Categorical Data Encoding"
      ]
    },
    {
      "cell_type": "code",
      "execution_count": null,
      "id": "4da86695",
      "metadata": {
        "scrolled": true,
        "id": "4da86695"
      },
      "outputs": [],
      "source": [
        "df['fuel-type'].unique() #Return all the unique values in the given Series"
      ]
    },
    {
      "cell_type": "code",
      "execution_count": null,
      "id": "55688d13",
      "metadata": {
        "id": "55688d13"
      },
      "outputs": [],
      "source": [
        "# One Hot Coding\n",
        "\n",
        "one_hot = pd.get_dummies(df['fuel-type'],dtype='int')\n",
        "one_hot.head()"
      ]
    },
    {
      "cell_type": "code",
      "execution_count": null,
      "id": "51435518",
      "metadata": {
        "id": "51435518"
      },
      "outputs": [],
      "source": [
        "df['body-style'].unique()"
      ]
    },
    {
      "cell_type": "code",
      "execution_count": null,
      "id": "91d16933",
      "metadata": {
        "id": "91d16933"
      },
      "outputs": [],
      "source": [
        "# Label Encoding\n",
        "\n",
        "from sklearn.preprocessing import LabelEncoder\n",
        "\n",
        "le = LabelEncoder()\n",
        "encoding = le.fit_transform(df['body-style'])\n",
        "encoding[:5]"
      ]
    },
    {
      "cell_type": "code",
      "execution_count": null,
      "id": "8bcfe5f2",
      "metadata": {
        "id": "8bcfe5f2"
      },
      "outputs": [],
      "source": [
        "# The most frequent value\n",
        "\n",
        "#df['column name'].value_counts().idxmax()"
      ]
    },
    {
      "cell_type": "raw",
      "id": "54c9ea3a",
      "metadata": {
        "id": "54c9ea3a"
      },
      "source": [
        "Data Normalization or Scaling"
      ]
    },
    {
      "cell_type": "code",
      "execution_count": null,
      "id": "a4226600",
      "metadata": {
        "id": "a4226600"
      },
      "outputs": [],
      "source": [
        "import pandas as pd\n",
        "\n",
        "df = pd.read_csv('eda.csv')\n",
        "df.info()"
      ]
    },
    {
      "cell_type": "raw",
      "id": "88e7872b",
      "metadata": {
        "id": "88e7872b"
      },
      "source": [
        "Types of Scaling:\n",
        "\n",
        "Standard Scaling: Scale you data such that the mean becomes 0 and standard deviation becomes 1. (Standard Normal Distribution)\n",
        "\n",
        "x(scaled) = (x-mean(x))/std(x)\n",
        "\n",
        "Min Max Scaling: Scale the data between 0 and 1\n",
        "\n",
        "x(scaled) = (x-min(x))/(max(x)-min(x))"
      ]
    },
    {
      "cell_type": "code",
      "execution_count": null,
      "id": "5ff22729",
      "metadata": {
        "id": "5ff22729"
      },
      "outputs": [],
      "source": [
        "df['engine-size'].mean()"
      ]
    },
    {
      "cell_type": "code",
      "execution_count": null,
      "id": "47d4fcbb",
      "metadata": {
        "id": "47d4fcbb"
      },
      "outputs": [],
      "source": [
        "df['engine-size'].std()"
      ]
    },
    {
      "cell_type": "code",
      "execution_count": null,
      "id": "7876604e",
      "metadata": {
        "id": "7876604e"
      },
      "outputs": [],
      "source": [
        "df['engine-size'].head()"
      ]
    },
    {
      "cell_type": "code",
      "execution_count": null,
      "id": "d26b2297",
      "metadata": {
        "id": "d26b2297"
      },
      "outputs": [],
      "source": [
        "# Standard Scaling\n",
        "\n",
        "from sklearn.preprocessing import StandardScaler\n",
        "\n",
        "scaler = StandardScaler()\n",
        "result = scaler.fit_transform(df.loc[:,['engine-size']])\n",
        "result[:5]"
      ]
    },
    {
      "cell_type": "code",
      "execution_count": null,
      "id": "b33d594c",
      "metadata": {
        "id": "b33d594c"
      },
      "outputs": [],
      "source": [
        "result.mean()"
      ]
    },
    {
      "cell_type": "code",
      "execution_count": null,
      "id": "94d9412d",
      "metadata": {
        "id": "94d9412d"
      },
      "outputs": [],
      "source": [
        "result.std()"
      ]
    },
    {
      "cell_type": "code",
      "execution_count": null,
      "id": "b3e0574a",
      "metadata": {
        "scrolled": true,
        "id": "b3e0574a"
      },
      "outputs": [],
      "source": [
        "df['engine-size'].min()"
      ]
    },
    {
      "cell_type": "code",
      "execution_count": null,
      "id": "e0a2f841",
      "metadata": {
        "id": "e0a2f841"
      },
      "outputs": [],
      "source": [
        "df['engine-size'].max()"
      ]
    },
    {
      "cell_type": "code",
      "execution_count": null,
      "id": "2c861a35",
      "metadata": {
        "id": "2c861a35"
      },
      "outputs": [],
      "source": [
        "from sklearn.preprocessing import MinMaxScaler\n",
        "\n",
        "scaler = MinMaxScaler()\n",
        "result = scaler.fit_transform(df[['engine-size']])\n",
        "result[:5]"
      ]
    },
    {
      "cell_type": "code",
      "execution_count": null,
      "id": "d37b40d7",
      "metadata": {
        "id": "d37b40d7"
      },
      "outputs": [],
      "source": [
        "result.min()"
      ]
    },
    {
      "cell_type": "code",
      "execution_count": null,
      "id": "e30181b6",
      "metadata": {
        "scrolled": true,
        "id": "e30181b6"
      },
      "outputs": [],
      "source": [
        "result.max()"
      ]
    },
    {
      "cell_type": "code",
      "execution_count": null,
      "id": "1efd27f1",
      "metadata": {
        "id": "1efd27f1",
        "outputId": "6d88e141-2fb7-4fe2-caf2-7e3ba0e8906b"
      },
      "outputs": [
        {
          "data": {
            "text/html": [
              "<div>\n",
              "<style scoped>\n",
              "    .dataframe tbody tr th:only-of-type {\n",
              "        vertical-align: middle;\n",
              "    }\n",
              "\n",
              "    .dataframe tbody tr th {\n",
              "        vertical-align: top;\n",
              "    }\n",
              "\n",
              "    .dataframe thead th {\n",
              "        text-align: right;\n",
              "    }\n",
              "</style>\n",
              "<table border=\"1\" class=\"dataframe\">\n",
              "  <thead>\n",
              "    <tr style=\"text-align: right;\">\n",
              "      <th></th>\n",
              "      <th>symboling</th>\n",
              "      <th>normalized-losses</th>\n",
              "      <th>make</th>\n",
              "      <th>fuel-type</th>\n",
              "      <th>body-style</th>\n",
              "      <th>drive-wheels</th>\n",
              "      <th>engine-location</th>\n",
              "      <th>width</th>\n",
              "      <th>height</th>\n",
              "      <th>engine-type</th>\n",
              "      <th>engine-size</th>\n",
              "      <th>horsepower</th>\n",
              "      <th>city-mpg</th>\n",
              "      <th>highway-mpg</th>\n",
              "      <th>price</th>\n",
              "    </tr>\n",
              "  </thead>\n",
              "  <tbody>\n",
              "    <tr>\n",
              "      <th>0</th>\n",
              "      <td>3</td>\n",
              "      <td>NaN</td>\n",
              "      <td>alfa-romero</td>\n",
              "      <td>gas</td>\n",
              "      <td>convertible</td>\n",
              "      <td>rwd</td>\n",
              "      <td>front</td>\n",
              "      <td>64.1</td>\n",
              "      <td>48.8</td>\n",
              "      <td>dohc</td>\n",
              "      <td>130</td>\n",
              "      <td>111.0</td>\n",
              "      <td>21</td>\n",
              "      <td>27</td>\n",
              "      <td>13495</td>\n",
              "    </tr>\n",
              "    <tr>\n",
              "      <th>1</th>\n",
              "      <td>3</td>\n",
              "      <td>NaN</td>\n",
              "      <td>alfa-romero</td>\n",
              "      <td>gas</td>\n",
              "      <td>convertible</td>\n",
              "      <td>rwd</td>\n",
              "      <td>front</td>\n",
              "      <td>64.1</td>\n",
              "      <td>48.8</td>\n",
              "      <td>dohc</td>\n",
              "      <td>130</td>\n",
              "      <td>111.0</td>\n",
              "      <td>21</td>\n",
              "      <td>27</td>\n",
              "      <td>16500</td>\n",
              "    </tr>\n",
              "    <tr>\n",
              "      <th>2</th>\n",
              "      <td>1</td>\n",
              "      <td>NaN</td>\n",
              "      <td>alfa-romero</td>\n",
              "      <td>gas</td>\n",
              "      <td>hatchback</td>\n",
              "      <td>rwd</td>\n",
              "      <td>front</td>\n",
              "      <td>65.5</td>\n",
              "      <td>52.4</td>\n",
              "      <td>ohcv</td>\n",
              "      <td>152</td>\n",
              "      <td>154.0</td>\n",
              "      <td>19</td>\n",
              "      <td>26</td>\n",
              "      <td>16500</td>\n",
              "    </tr>\n",
              "    <tr>\n",
              "      <th>3</th>\n",
              "      <td>2</td>\n",
              "      <td>164.0</td>\n",
              "      <td>audi</td>\n",
              "      <td>gas</td>\n",
              "      <td>sedan</td>\n",
              "      <td>fwd</td>\n",
              "      <td>front</td>\n",
              "      <td>66.2</td>\n",
              "      <td>54.3</td>\n",
              "      <td>ohc</td>\n",
              "      <td>109</td>\n",
              "      <td>102.0</td>\n",
              "      <td>24</td>\n",
              "      <td>30</td>\n",
              "      <td>13950</td>\n",
              "    </tr>\n",
              "    <tr>\n",
              "      <th>4</th>\n",
              "      <td>2</td>\n",
              "      <td>164.0</td>\n",
              "      <td>audi</td>\n",
              "      <td>gas</td>\n",
              "      <td>sedan</td>\n",
              "      <td>4wd</td>\n",
              "      <td>front</td>\n",
              "      <td>66.4</td>\n",
              "      <td>54.3</td>\n",
              "      <td>ohc</td>\n",
              "      <td>136</td>\n",
              "      <td>115.0</td>\n",
              "      <td>18</td>\n",
              "      <td>22</td>\n",
              "      <td>17450</td>\n",
              "    </tr>\n",
              "    <tr>\n",
              "      <th>...</th>\n",
              "      <td>...</td>\n",
              "      <td>...</td>\n",
              "      <td>...</td>\n",
              "      <td>...</td>\n",
              "      <td>...</td>\n",
              "      <td>...</td>\n",
              "      <td>...</td>\n",
              "      <td>...</td>\n",
              "      <td>...</td>\n",
              "      <td>...</td>\n",
              "      <td>...</td>\n",
              "      <td>...</td>\n",
              "      <td>...</td>\n",
              "      <td>...</td>\n",
              "      <td>...</td>\n",
              "    </tr>\n",
              "    <tr>\n",
              "      <th>200</th>\n",
              "      <td>-1</td>\n",
              "      <td>95.0</td>\n",
              "      <td>volvo</td>\n",
              "      <td>gas</td>\n",
              "      <td>sedan</td>\n",
              "      <td>rwd</td>\n",
              "      <td>front</td>\n",
              "      <td>68.9</td>\n",
              "      <td>55.5</td>\n",
              "      <td>ohc</td>\n",
              "      <td>141</td>\n",
              "      <td>114.0</td>\n",
              "      <td>23</td>\n",
              "      <td>28</td>\n",
              "      <td>16845</td>\n",
              "    </tr>\n",
              "    <tr>\n",
              "      <th>201</th>\n",
              "      <td>-1</td>\n",
              "      <td>95.0</td>\n",
              "      <td>volvo</td>\n",
              "      <td>gas</td>\n",
              "      <td>sedan</td>\n",
              "      <td>rwd</td>\n",
              "      <td>front</td>\n",
              "      <td>68.8</td>\n",
              "      <td>55.5</td>\n",
              "      <td>ohc</td>\n",
              "      <td>141</td>\n",
              "      <td>160.0</td>\n",
              "      <td>19</td>\n",
              "      <td>25</td>\n",
              "      <td>19045</td>\n",
              "    </tr>\n",
              "    <tr>\n",
              "      <th>202</th>\n",
              "      <td>-1</td>\n",
              "      <td>95.0</td>\n",
              "      <td>volvo</td>\n",
              "      <td>gas</td>\n",
              "      <td>sedan</td>\n",
              "      <td>rwd</td>\n",
              "      <td>front</td>\n",
              "      <td>68.9</td>\n",
              "      <td>55.5</td>\n",
              "      <td>ohcv</td>\n",
              "      <td>173</td>\n",
              "      <td>134.0</td>\n",
              "      <td>18</td>\n",
              "      <td>23</td>\n",
              "      <td>21485</td>\n",
              "    </tr>\n",
              "    <tr>\n",
              "      <th>203</th>\n",
              "      <td>-1</td>\n",
              "      <td>95.0</td>\n",
              "      <td>volvo</td>\n",
              "      <td>diesel</td>\n",
              "      <td>sedan</td>\n",
              "      <td>rwd</td>\n",
              "      <td>front</td>\n",
              "      <td>68.9</td>\n",
              "      <td>55.5</td>\n",
              "      <td>ohc</td>\n",
              "      <td>145</td>\n",
              "      <td>106.0</td>\n",
              "      <td>26</td>\n",
              "      <td>27</td>\n",
              "      <td>22470</td>\n",
              "    </tr>\n",
              "    <tr>\n",
              "      <th>204</th>\n",
              "      <td>-1</td>\n",
              "      <td>95.0</td>\n",
              "      <td>volvo</td>\n",
              "      <td>gas</td>\n",
              "      <td>sedan</td>\n",
              "      <td>rwd</td>\n",
              "      <td>front</td>\n",
              "      <td>68.9</td>\n",
              "      <td>55.5</td>\n",
              "      <td>ohc</td>\n",
              "      <td>141</td>\n",
              "      <td>114.0</td>\n",
              "      <td>19</td>\n",
              "      <td>25</td>\n",
              "      <td>22625</td>\n",
              "    </tr>\n",
              "  </tbody>\n",
              "</table>\n",
              "<p>205 rows × 15 columns</p>\n",
              "</div>"
            ],
            "text/plain": [
              "     symboling  normalized-losses         make fuel-type   body-style  \\\n",
              "0            3                NaN  alfa-romero       gas  convertible   \n",
              "1            3                NaN  alfa-romero       gas  convertible   \n",
              "2            1                NaN  alfa-romero       gas    hatchback   \n",
              "3            2              164.0         audi       gas        sedan   \n",
              "4            2              164.0         audi       gas        sedan   \n",
              "..         ...                ...          ...       ...          ...   \n",
              "200         -1               95.0        volvo       gas        sedan   \n",
              "201         -1               95.0        volvo       gas        sedan   \n",
              "202         -1               95.0        volvo       gas        sedan   \n",
              "203         -1               95.0        volvo    diesel        sedan   \n",
              "204         -1               95.0        volvo       gas        sedan   \n",
              "\n",
              "    drive-wheels engine-location  width  height engine-type  engine-size  \\\n",
              "0            rwd           front   64.1    48.8        dohc          130   \n",
              "1            rwd           front   64.1    48.8        dohc          130   \n",
              "2            rwd           front   65.5    52.4        ohcv          152   \n",
              "3            fwd           front   66.2    54.3         ohc          109   \n",
              "4            4wd           front   66.4    54.3         ohc          136   \n",
              "..           ...             ...    ...     ...         ...          ...   \n",
              "200          rwd           front   68.9    55.5         ohc          141   \n",
              "201          rwd           front   68.8    55.5         ohc          141   \n",
              "202          rwd           front   68.9    55.5        ohcv          173   \n",
              "203          rwd           front   68.9    55.5         ohc          145   \n",
              "204          rwd           front   68.9    55.5         ohc          141   \n",
              "\n",
              "     horsepower  city-mpg  highway-mpg  price  \n",
              "0         111.0        21           27  13495  \n",
              "1         111.0        21           27  16500  \n",
              "2         154.0        19           26  16500  \n",
              "3         102.0        24           30  13950  \n",
              "4         115.0        18           22  17450  \n",
              "..          ...       ...          ...    ...  \n",
              "200       114.0        23           28  16845  \n",
              "201       160.0        19           25  19045  \n",
              "202       134.0        18           23  21485  \n",
              "203       106.0        26           27  22470  \n",
              "204       114.0        19           25  22625  \n",
              "\n",
              "[205 rows x 15 columns]"
            ]
          },
          "execution_count": 2,
          "metadata": {},
          "output_type": "execute_result"
        }
      ],
      "source": [
        "import pandas as pd\n",
        "\n",
        "df=pd.read_csv('eda.csv')\n",
        "df"
      ]
    },
    {
      "cell_type": "code",
      "execution_count": null,
      "id": "f7fd478a",
      "metadata": {
        "id": "f7fd478a"
      },
      "outputs": [],
      "source": []
    }
  ],
  "metadata": {
    "kernelspec": {
      "display_name": "Python 3 (ipykernel)",
      "language": "python",
      "name": "python3"
    },
    "language_info": {
      "codemirror_mode": {
        "name": "ipython",
        "version": 3
      },
      "file_extension": ".py",
      "mimetype": "text/x-python",
      "name": "python",
      "nbconvert_exporter": "python",
      "pygments_lexer": "ipython3",
      "version": "3.9.13"
    },
    "colab": {
      "provenance": [],
      "include_colab_link": true
    }
  },
  "nbformat": 4,
  "nbformat_minor": 5
}